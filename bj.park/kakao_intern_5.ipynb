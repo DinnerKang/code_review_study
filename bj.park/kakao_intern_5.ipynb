{
 "cells": [
  {
   "cell_type": "code",
   "execution_count": 2,
   "metadata": {},
   "outputs": [],
   "source": [
    "# feat. yj.Han"
   ]
  },
  {
   "cell_type": "code",
   "execution_count": 1,
   "metadata": {
    "collapsed": true
   },
   "outputs": [
    {
     "data": {
      "text/plain": [
       "'\\n문제 설명\\n격자선을 따라 움직이는 기계가 있습니다. 격자는 1 x 1 크기인 칸들로 이루어져 있습니다. 기계는 처음에 격자선의 교차점 위에 놓여있으며 상, 하, 좌, 우로 거리 1 만큼씩 움직일 수 있습니다.\\n이때, 기계가 움직인 기록이 주어지면 기계가 전부 움직인 후 기계의 동선에서 1x1 크기 정사각형이 몇 개가 보이는지 알아보려 합니다.\\n예를 들어 [상, 우, 하, 좌]로 기계를 움직였다면 기계의 동선은 아래 그림과 같으며, 기계의 동선에서 1x1 크기 정사각형 1개가 보입니다.\\n\\n기계가 움직인 기록을 담은 배열 moves가 주어질때, 기계가 전부 움직인 후 기계의 동선에서 보이는 1x1 크기 정사각형 개수를 return 하도록 solution 함수를 완성해주세요.\\n제한사항\\n•\\tmoves의 길이는 1 이상 500 이하입니다.\\n•\\tmoves의 원소는 상, 하, 좌, 우를 나타내는 길이가 1인 문자열입니다.\\n•\\t상, 하, 좌, 우는 각각 “U”, “D”, “L”, “R”로 나타냅니다.\\n•\\t격자 평면은 무한히 크다고 가정합니다.\\n입출력 예\\nmoves\\nreturn\\n[“U”, “R”, “D”, “L”, “U”, “R”, “D”, “L”]\\n1\\n[“U”, “U”, “R”, “D”, “L”, “L”, “L”, “U”, “R”, “D”, “D”, “D”, “L”, “U”, “R”, “R”, “R”, “D”, “L”, “U”]\\n5\\n[“U”, “L”, “D”, “R”, “R”, “D”, “D”, “L”, “U”, “U”]\\n1\\n입출력 예 설명\\n입출력 예 #1\\n문제의 그림과 같은 동선이 생기며, 1x1 크기 정사각형 1개가 보입니다.\\n입출력 예 #2\\n기계의 동선을 그려보면 아래 그림과 같습니다.\\n\\n1x1 크기 정사각형이 5개 있습니다.\\n입출력 예 #3\\n기계의 동선을 그려보면 아래 그림과 같습니다.\\n\\n1x1 크기 정사각형이 1개 있습니다.\\n문제 설명\\n격자선을 따라 움직이는 기계가 있습니다. 격자는 1 x 1 크기인 칸들로 이루어져 있습니다. 기계는 처음에 격자선의 교차점 위에 놓여있으며 상, 하, 좌, 우로 거리 1 만큼씩 움직일 수 있습니다.\\n이때, 기계가 움직인 기록이 주어지면 기계가 전부 움직인 후 기계의 동선에서 1x1 크기 정사각형이 몇 개가 보이는지 알아보려 합니다.\\n예를 들어 [상, 우, 하, 좌]로 기계를 움직였다면 기계의 동선은 아래 그림과 같으며, 기계의 동선에서 1x1 크기 정사각형 1개가 보입니다.\\n\\n기계가 움직인 기록을 담은 배열 moves가 주어질때, 기계가 전부 움직인 후 기계의 동선에서 보이는 1x1 크기 정사각형 개수를 return 하도록 solution 함수를 완성해주세요.\\n제한사항\\n•\\tmoves의 길이는 1 이상 500 이하입니다.\\n•\\tmoves의 원소는 상, 하, 좌, 우를 나타내는 길이가 1인 문자열입니다.\\n•\\t상, 하, 좌, 우는 각각 “U”, “D”, “L”, “R”로 나타냅니다.\\n•\\t격자 평면은 무한히 크다고 가정합니다.\\n입출력 예\\nmoves\\nreturn\\n[“U”, “R”, “D”, “L”, “U”, “R”, “D”, “L”]\\n1\\n[“U”, “U”, “R”, “D”, “L”, “L”, “L”, “U”, “R”, “D”, “D”, “D”, “L”, “U”, “R”, “R”, “R”, “D”, “L”, “U”]\\n5\\n[“U”, “L”, “D”, “R”, “R”, “D”, “D”, “L”, “U”, “U”]\\n1\\n입출력 예 설명\\n입출력 예 #1\\n문제의 그림과 같은 동선이 생기며, 1x1 크기 정사각형 1개가 보입니다.\\n입출력 예 #2\\n기계의 동선을 그려보면 아래 그림과 같습니다.\\n\\n1x1 크기 정사각형이 5개 있습니다.\\n입출력 예 #3\\n기계의 동선을 그려보면 아래 그림과 같습니다.\\n\\n1x1 크기 정사각형이 1개 있습니다.\\n'"
      ]
     },
     "execution_count": 1,
     "metadata": {},
     "output_type": "execute_result"
    }
   ],
   "source": [
    "'''\n",
    "문제 설명\n",
    "격자선을 따라 움직이는 기계가 있습니다. 격자는 1 x 1 크기인 칸들로 이루어져 있습니다. 기계는 처음에 격자선의 교차점 위에 놓여있으며 상, 하, 좌, 우로 거리 1 만큼씩 움직일 수 있습니다.\n",
    "이때, 기계가 움직인 기록이 주어지면 기계가 전부 움직인 후 기계의 동선에서 1x1 크기 정사각형이 몇 개가 보이는지 알아보려 합니다.\n",
    "예를 들어 [상, 우, 하, 좌]로 기계를 움직였다면 기계의 동선은 아래 그림과 같으며, 기계의 동선에서 1x1 크기 정사각형 1개가 보입니다.\n",
    "\n",
    "기계가 움직인 기록을 담은 배열 moves가 주어질때, 기계가 전부 움직인 후 기계의 동선에서 보이는 1x1 크기 정사각형 개수를 return 하도록 solution 함수를 완성해주세요.\n",
    "제한사항\n",
    "•\tmoves의 길이는 1 이상 500 이하입니다.\n",
    "•\tmoves의 원소는 상, 하, 좌, 우를 나타내는 길이가 1인 문자열입니다.\n",
    "•\t상, 하, 좌, 우는 각각 “U”, “D”, “L”, “R”로 나타냅니다.\n",
    "•\t격자 평면은 무한히 크다고 가정합니다.\n",
    "입출력 예\n",
    "moves\n",
    "return\n",
    "[“U”, “R”, “D”, “L”, “U”, “R”, “D”, “L”]\n",
    "1\n",
    "[“U”, “U”, “R”, “D”, “L”, “L”, “L”, “U”, “R”, “D”, “D”, “D”, “L”, “U”, “R”, “R”, “R”, “D”, “L”, “U”]\n",
    "5\n",
    "[“U”, “L”, “D”, “R”, “R”, “D”, “D”, “L”, “U”, “U”]\n",
    "1\n",
    "입출력 예 설명\n",
    "입출력 예 #1\n",
    "문제의 그림과 같은 동선이 생기며, 1x1 크기 정사각형 1개가 보입니다.\n",
    "입출력 예 #2\n",
    "기계의 동선을 그려보면 아래 그림과 같습니다.\n",
    "\n",
    "1x1 크기 정사각형이 5개 있습니다.\n",
    "입출력 예 #3\n",
    "기계의 동선을 그려보면 아래 그림과 같습니다.\n",
    "\n",
    "1x1 크기 정사각형이 1개 있습니다.\n",
    "문제 설명\n",
    "격자선을 따라 움직이는 기계가 있습니다. 격자는 1 x 1 크기인 칸들로 이루어져 있습니다. 기계는 처음에 격자선의 교차점 위에 놓여있으며 상, 하, 좌, 우로 거리 1 만큼씩 움직일 수 있습니다.\n",
    "이때, 기계가 움직인 기록이 주어지면 기계가 전부 움직인 후 기계의 동선에서 1x1 크기 정사각형이 몇 개가 보이는지 알아보려 합니다.\n",
    "예를 들어 [상, 우, 하, 좌]로 기계를 움직였다면 기계의 동선은 아래 그림과 같으며, 기계의 동선에서 1x1 크기 정사각형 1개가 보입니다.\n",
    "\n",
    "기계가 움직인 기록을 담은 배열 moves가 주어질때, 기계가 전부 움직인 후 기계의 동선에서 보이는 1x1 크기 정사각형 개수를 return 하도록 solution 함수를 완성해주세요.\n",
    "제한사항\n",
    "•\tmoves의 길이는 1 이상 500 이하입니다.\n",
    "•\tmoves의 원소는 상, 하, 좌, 우를 나타내는 길이가 1인 문자열입니다.\n",
    "•\t상, 하, 좌, 우는 각각 “U”, “D”, “L”, “R”로 나타냅니다.\n",
    "•\t격자 평면은 무한히 크다고 가정합니다.\n",
    "입출력 예\n",
    "moves\n",
    "return\n",
    "[“U”, “R”, “D”, “L”, “U”, “R”, “D”, “L”]\n",
    "1\n",
    "[“U”, “U”, “R”, “D”, “L”, “L”, “L”, “U”, “R”, “D”, “D”, “D”, “L”, “U”, “R”, “R”, “R”, “D”, “L”, “U”]\n",
    "5\n",
    "[“U”, “L”, “D”, “R”, “R”, “D”, “D”, “L”, “U”, “U”]\n",
    "1\n",
    "입출력 예 설명\n",
    "입출력 예 #1\n",
    "문제의 그림과 같은 동선이 생기며, 1x1 크기 정사각형 1개가 보입니다.\n",
    "입출력 예 #2\n",
    "기계의 동선을 그려보면 아래 그림과 같습니다.\n",
    "\n",
    "1x1 크기 정사각형이 5개 있습니다.\n",
    "입출력 예 #3\n",
    "기계의 동선을 그려보면 아래 그림과 같습니다.\n",
    "\n",
    "1x1 크기 정사각형이 1개 있습니다.\n",
    "'''"
   ]
  },
  {
   "cell_type": "code",
   "execution_count": 3,
   "metadata": {},
   "outputs": [],
   "source": [
    "inputs_list = [['U', 'R', 'D', 'L', 'U', 'R', 'D', 'L'], \n",
    "               ['U', 'U', 'R', 'D', 'L', 'L', 'L', 'U', 'R', 'D', 'D', 'D', 'L', 'U', 'R', 'R', 'R', 'D', 'L', 'U'],\n",
    "               ['U', 'L', 'D', 'R', 'R', 'D', 'D', 'L', 'U', 'U']]\n",
    "answer_list = [1, 5, 1]"
   ]
  },
  {
   "cell_type": "code",
   "execution_count": 4,
   "metadata": {},
   "outputs": [],
   "source": [
    "goal = 2"
   ]
  },
  {
   "cell_type": "code",
   "execution_count": 5,
   "metadata": {},
   "outputs": [],
   "source": [
    "inputs = inputs_list[goal]\n",
    "answer = answer_list[goal]"
   ]
  },
  {
   "cell_type": "code",
   "execution_count": 6,
   "metadata": {},
   "outputs": [],
   "source": [
    "start_point = [[0,0]]"
   ]
  },
  {
   "cell_type": "code",
   "execution_count": 7,
   "metadata": {},
   "outputs": [
    {
     "name": "stdout",
     "output_type": "stream",
     "text": [
      "[1, 0]\n",
      "[1, -1]\n",
      "[0, -1]\n",
      "[0, 0]\n",
      "[0, 1]\n",
      "[-1, 1]\n",
      "[-2, 1]\n",
      "[-2, 0]\n",
      "[-1, 0]\n",
      "[0, 0]\n"
     ]
    }
   ],
   "source": [
    "for i in inputs:\n",
    "    if i == 'U':\n",
    "        tmp_point = [start_point[-1][0]+1, start_point[-1][1]]\n",
    "    elif i == 'D':\n",
    "        tmp_point = [start_point[-1][0]-1, start_point[-1][1]]\n",
    "    elif i == 'L':\n",
    "        tmp_point = [start_point[-1][0], start_point[-1][1]-1]\n",
    "    elif i == 'R':\n",
    "        tmp_point = [start_point[-1][0], start_point[-1][1]+1]\n",
    "    start_point.append(tmp_point)\n",
    "    print(tmp_point)"
   ]
  },
  {
   "cell_type": "code",
   "execution_count": 8,
   "metadata": {},
   "outputs": [
    {
     "name": "stdout",
     "output_type": "stream",
     "text": [
      "[[0, 0], [1, 0], [1, -1], [0, -1], [0, 0], [0, 1], [-1, 1], [-2, 1], [-2, 0], [-1, 0], [0, 0]]\n"
     ]
    }
   ],
   "source": [
    "print(start_point)"
   ]
  },
  {
   "cell_type": "code",
   "execution_count": 9,
   "metadata": {},
   "outputs": [
    {
     "name": "stdout",
     "output_type": "stream",
     "text": [
      "11\n"
     ]
    }
   ],
   "source": [
    "len_list = len(start_point)\n",
    "print(len_list)"
   ]
  },
  {
   "cell_type": "code",
   "execution_count": 10,
   "metadata": {},
   "outputs": [],
   "source": [
    "x_list = []\n",
    "y_list = []"
   ]
  },
  {
   "cell_type": "code",
   "execution_count": 11,
   "metadata": {},
   "outputs": [],
   "source": [
    "for i in range(len_list):\n",
    "    x_list.append(start_point[i][1])\n",
    "    y_list.append(start_point[i][0])"
   ]
  },
  {
   "cell_type": "code",
   "execution_count": 12,
   "metadata": {},
   "outputs": [
    {
     "name": "stdout",
     "output_type": "stream",
     "text": [
      "[0, 0, -1, -1, 0, 1, 1, 1, 0, 0, 0]\n",
      "[0, 1, 1, 0, 0, 0, -1, -2, -2, -1, 0]\n"
     ]
    }
   ],
   "source": [
    "print(x_list)\n",
    "print(y_list)"
   ]
  },
  {
   "cell_type": "code",
   "execution_count": 13,
   "metadata": {},
   "outputs": [],
   "source": [
    "x_min = min(x_list)\n",
    "x_max = max(x_list)\n",
    "y_min = min(y_list)\n",
    "y_max = max(y_list)"
   ]
  },
  {
   "cell_type": "code",
   "execution_count": 14,
   "metadata": {},
   "outputs": [
    {
     "name": "stdout",
     "output_type": "stream",
     "text": [
      "-1 1 -2 1\n"
     ]
    }
   ],
   "source": [
    "print(x_min, x_max, y_min, y_max)"
   ]
  },
  {
   "cell_type": "code",
   "execution_count": 15,
   "metadata": {},
   "outputs": [],
   "source": [
    "x_length = x_max - x_min\n",
    "y_length = y_max - y_min"
   ]
  },
  {
   "cell_type": "code",
   "execution_count": 16,
   "metadata": {},
   "outputs": [
    {
     "name": "stdout",
     "output_type": "stream",
     "text": [
      "2 3\n"
     ]
    }
   ],
   "source": [
    "print(x_length, y_length)"
   ]
  },
  {
   "cell_type": "code",
   "execution_count": 17,
   "metadata": {},
   "outputs": [],
   "source": [
    "import numpy as np"
   ]
  },
  {
   "cell_type": "code",
   "execution_count": 18,
   "metadata": {},
   "outputs": [],
   "source": [
    "ud_list = np.zeros((y_length, x_length+1))\n",
    "lr_list = np.zeros((y_length+1, x_length))"
   ]
  },
  {
   "cell_type": "code",
   "execution_count": 19,
   "metadata": {},
   "outputs": [
    {
     "name": "stdout",
     "output_type": "stream",
     "text": [
      "[[0. 0. 0.]\n",
      " [0. 0. 0.]\n",
      " [0. 0. 0.]]\n",
      "[[0. 0.]\n",
      " [0. 0.]\n",
      " [0. 0.]\n",
      " [0. 0.]]\n"
     ]
    }
   ],
   "source": [
    "print(ud_list)\n",
    "print(lr_list)"
   ]
  },
  {
   "cell_type": "code",
   "execution_count": 20,
   "metadata": {},
   "outputs": [],
   "source": [
    "x_list = np.array(x_list)\n",
    "y_list = np.array(y_list)"
   ]
  },
  {
   "cell_type": "code",
   "execution_count": 21,
   "metadata": {},
   "outputs": [],
   "source": [
    "x_list = x_list - x_min\n",
    "y_list = y_list - y_min"
   ]
  },
  {
   "cell_type": "code",
   "execution_count": 22,
   "metadata": {},
   "outputs": [
    {
     "name": "stdout",
     "output_type": "stream",
     "text": [
      "[1 1 0 0 1 2 2 2 1 1 1]\n",
      "[2 3 3 2 2 2 1 0 0 1 2]\n"
     ]
    }
   ],
   "source": [
    "print(x_list)\n",
    "print(y_list)"
   ]
  },
  {
   "cell_type": "code",
   "execution_count": 23,
   "metadata": {},
   "outputs": [],
   "source": [
    "for i in range(len_list - 1):\n",
    "    x = x_list[i+1] - x_list[i]\n",
    "    y = y_list[i+1] - y_list[i]\n",
    "    if x < 0:\n",
    "        lr_list[y_list[i], x_list[i]-1] = 1\n",
    "    elif x > 0:\n",
    "        lr_list[y_list[i], x_list[i]] = 1\n",
    "    elif y < 0:\n",
    "        ud_list[y_list[i]-1, x_list[i]] = 1\n",
    "    elif y > 0:\n",
    "        ud_list[y_list[i], x_list[i]] = 1"
   ]
  },
  {
   "cell_type": "code",
   "execution_count": 24,
   "metadata": {},
   "outputs": [
    {
     "name": "stdout",
     "output_type": "stream",
     "text": [
      "[[0. 1. 1.]\n",
      " [0. 1. 1.]\n",
      " [1. 1. 0.]]\n",
      "[[0. 1.]\n",
      " [0. 0.]\n",
      " [1. 1.]\n",
      " [1. 0.]]\n"
     ]
    }
   ],
   "source": [
    "print(ud_list)\n",
    "print(lr_list)"
   ]
  },
  {
   "cell_type": "code",
   "execution_count": 25,
   "metadata": {},
   "outputs": [
    {
     "data": {
      "text/plain": [
       "numpy.ndarray"
      ]
     },
     "execution_count": 25,
     "metadata": {},
     "output_type": "execute_result"
    }
   ],
   "source": [
    "type(ud_list)"
   ]
  },
  {
   "cell_type": "code",
   "execution_count": 26,
   "metadata": {},
   "outputs": [],
   "source": [
    "row, col = lr_list.shape"
   ]
  },
  {
   "cell_type": "code",
   "execution_count": 27,
   "metadata": {},
   "outputs": [
    {
     "name": "stdout",
     "output_type": "stream",
     "text": [
      "4 2\n"
     ]
    }
   ],
   "source": [
    "print(row, col)"
   ]
  },
  {
   "cell_type": "code",
   "execution_count": 28,
   "metadata": {},
   "outputs": [],
   "source": [
    "cnt = 0"
   ]
  },
  {
   "cell_type": "code",
   "execution_count": 29,
   "metadata": {},
   "outputs": [],
   "source": [
    "for i in range(row-1):\n",
    "    for j in range(col):\n",
    "        if (lr_list[i,j]==1) & (lr_list[i+1,j]==1) & (ud_list[i,j]==1) & (ud_list[i,j+1]==1):\n",
    "            cnt += 1"
   ]
  },
  {
   "cell_type": "code",
   "execution_count": 30,
   "metadata": {},
   "outputs": [
    {
     "name": "stdout",
     "output_type": "stream",
     "text": [
      "정답입니다.\n"
     ]
    }
   ],
   "source": [
    "if cnt == answer:\n",
    "    print('정답입니다.')\n",
    "else:\n",
    "    print('오답입니다.')"
   ]
  }
 ],
 "metadata": {
  "kernelspec": {
   "display_name": "Python 3",
   "language": "python",
   "name": "python3"
  },
  "language_info": {
   "codemirror_mode": {
    "name": "ipython",
    "version": 3
   },
   "file_extension": ".py",
   "mimetype": "text/x-python",
   "name": "python",
   "nbconvert_exporter": "python",
   "pygments_lexer": "ipython3",
   "version": "3.6.4"
  }
 },
 "nbformat": 4,
 "nbformat_minor": 2
}
